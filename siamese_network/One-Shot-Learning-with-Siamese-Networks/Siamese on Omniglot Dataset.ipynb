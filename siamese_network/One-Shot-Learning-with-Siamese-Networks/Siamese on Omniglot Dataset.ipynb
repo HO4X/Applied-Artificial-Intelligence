{
 "cells": [
  {
   "cell_type": "code",
   "execution_count": 44,
   "metadata": {},
   "outputs": [],
   "source": [
    "import sys\n",
    "import numpy as np\n",
    "import pandas as pd\n",
    "from scipy.misc import imread\n",
    "import pickle\n",
    "import os\n",
    "import matplotlib.pyplot as plt\n",
    "%matplotlib inline\n",
    "\n",
    "import cv2\n",
    "import time\n",
    "\n",
    "import tensorflow as tf\n",
    "from keras.models import Sequential\n",
    "from keras.optimizers import Adam\n",
    "from keras.layers import Conv2D, ZeroPadding2D, Activation, Input, concatenate\n",
    "from keras.models import Model\n",
    "\n",
    "from keras.layers.normalization import BatchNormalization\n",
    "from keras.layers.pooling import MaxPooling2D\n",
    "from keras.layers.merge import Concatenate\n",
    "from keras.layers.core import Lambda, Flatten, Dense\n",
    "from keras.initializers import glorot_uniform\n",
    "\n",
    "from keras.engine.topology import Layer\n",
    "from keras.regularizers import l2\n",
    "from keras import backend as K\n",
    "\n",
    "from sklearn.utils import shuffle\n",
    "\n",
    "import numpy.random as rng\n",
    "\n",
    "import tensorflow as tf\n",
    "\n",
    "import keras2onnx\n",
    "import onnx"
   ]
  },
  {
   "cell_type": "markdown",
   "metadata": {},
   "source": [
    "### Please give below paths as per the paths in your system"
   ]
  },
  {
   "cell_type": "code",
   "execution_count": 3,
   "metadata": {},
   "outputs": [],
   "source": [
    "train_folder = \"../katzen_training/\"\n",
    "val_folder = '../katzen_validierung/'\n",
    "save_path = '../data/'"
   ]
  },
  {
   "cell_type": "code",
   "execution_count": 4,
   "metadata": {},
   "outputs": [],
   "source": [
    "def loadimgs(path,n = 0):\n",
    "    '''\n",
    "    path => Path of train directory or test directory\n",
    "    '''\n",
    "    X=[]\n",
    "    y = []\n",
    "    cat_dict = {}\n",
    "    lang_dict = {}\n",
    "    curr_y = n\n",
    "    # we load every alphabet seperately so we can isolate them later\n",
    "    for alphabet in os.listdir(path):\n",
    "        print(\"loading alphabet: \" + alphabet)\n",
    "        lang_dict[alphabet] = [curr_y,None]\n",
    "        alphabet_path = os.path.join(path,alphabet)\n",
    "        # every letter/category has it's own column in the array, so  load seperately\n",
    "        for letter in os.listdir(alphabet_path):\n",
    "            cat_dict[curr_y] = (alphabet, letter)\n",
    "            category_images=[]\n",
    "            letter_path = os.path.join(alphabet_path, letter)\n",
    "            # read all the images in the current category\n",
    "            for filename in os.listdir(letter_path):\n",
    "                image_path = os.path.join(letter_path, filename)\n",
    "                image = imread(image_path, mode='I')\n",
    "                # image = imread(image_path, mode='L')\n",
    "                category_images.append(image)\n",
    "                y.append(curr_y)\n",
    "            try:\n",
    "                X.append(np.stack(category_images))\n",
    "            # edge case  - last one\n",
    "            except ValueError as e:\n",
    "                print(e)\n",
    "                print(\"error - category_images:\", category_images)\n",
    "            curr_y += 1\n",
    "            lang_dict[alphabet][1] = curr_y - 1\n",
    "    y = np.vstack(y)\n",
    "    X = np.stack(X)\n",
    "    return X,y,lang_dict"
   ]
  },
  {
   "cell_type": "markdown",
   "metadata": {},
   "source": [
    "### Loading the train images into tensors"
   ]
  },
  {
   "cell_type": "code",
   "execution_count": 5,
   "metadata": {},
   "outputs": [
    {
     "name": "stdout",
     "output_type": "stream",
     "text": [
      "loading alphabet: 01_katzen\n"
     ]
    },
    {
     "name": "stderr",
     "output_type": "stream",
     "text": [
      "/home/osboxes/anaconda3/lib/python3.7/site-packages/ipykernel_launcher.py:23: DeprecationWarning: `imread` is deprecated!\n",
      "`imread` is deprecated in SciPy 1.0.0, and will be removed in 1.2.0.\n",
      "Use ``imageio.imread`` instead.\n"
     ]
    }
   ],
   "source": [
    "X,y,c=loadimgs(train_folder)"
   ]
  },
  {
   "cell_type": "markdown",
   "metadata": {},
   "source": [
    "### Saving the train tensors on disk"
   ]
  },
  {
   "cell_type": "code",
   "execution_count": 6,
   "metadata": {},
   "outputs": [],
   "source": [
    "with open(os.path.join(save_path,\"train.pickle\"), \"wb\") as f:\n",
    "    pickle.dump((X,c),f)"
   ]
  },
  {
   "cell_type": "markdown",
   "metadata": {},
   "source": [
    "### Loading the validation images into tensors"
   ]
  },
  {
   "cell_type": "code",
   "execution_count": 7,
   "metadata": {},
   "outputs": [
    {
     "name": "stdout",
     "output_type": "stream",
     "text": [
      "loading alphabet: 02_katzen\n"
     ]
    },
    {
     "name": "stderr",
     "output_type": "stream",
     "text": [
      "/home/osboxes/anaconda3/lib/python3.7/site-packages/ipykernel_launcher.py:23: DeprecationWarning: `imread` is deprecated!\n",
      "`imread` is deprecated in SciPy 1.0.0, and will be removed in 1.2.0.\n",
      "Use ``imageio.imread`` instead.\n"
     ]
    }
   ],
   "source": [
    "Xval,yval,cval=loadimgs(val_folder)"
   ]
  },
  {
   "cell_type": "markdown",
   "metadata": {},
   "source": [
    "### Saving the validation tensors on disk"
   ]
  },
  {
   "cell_type": "code",
   "execution_count": 8,
   "metadata": {},
   "outputs": [],
   "source": [
    "with open(os.path.join(save_path,\"val.pickle\"), \"wb\") as f:\n",
    "    pickle.dump((Xval,cval),f)"
   ]
  },
  {
   "cell_type": "code",
   "execution_count": 9,
   "metadata": {},
   "outputs": [],
   "source": [
    "# del X, y ,c ,Xval, yval, cval"
   ]
  },
  {
   "cell_type": "code",
   "execution_count": 10,
   "metadata": {},
   "outputs": [],
   "source": [
    "def initialize_weights(shape, name=None):\n",
    "    \"\"\"\n",
    "        The paper, http://www.cs.utoronto.ca/~gkoch/files/msc-thesis.pdf\n",
    "        suggests to initialize CNN layer weights with mean as 0.0 and standard deviation of 0.01\n",
    "    \"\"\"\n",
    "    return np.random.normal(loc = 0.0, scale = 1e-2, size = shape)"
   ]
  },
  {
   "cell_type": "code",
   "execution_count": 11,
   "metadata": {},
   "outputs": [],
   "source": [
    "def initialize_bias(shape, name=None):\n",
    "    \"\"\"\n",
    "        The paper, http://www.cs.utoronto.ca/~gkoch/files/msc-thesis.pdf\n",
    "        suggests to initialize CNN layer bias with mean as 0.5 and standard deviation of 0.01\n",
    "    \"\"\"\n",
    "    return np.random.normal(loc = 0.5, scale = 1e-2, size = shape)"
   ]
  },
  {
   "cell_type": "code",
   "execution_count": 12,
   "metadata": {},
   "outputs": [],
   "source": [
    "def get_siamese_model(input_shape):\n",
    "    \"\"\"\n",
    "        Model architecture based on the one provided in: http://www.cs.utoronto.ca/~gkoch/files/msc-thesis.pdf\n",
    "    \"\"\"\n",
    "    \n",
    "    # Define the tensors for the two input images\n",
    "    left_input = Input(input_shape)\n",
    "    right_input = Input(input_shape)\n",
    "    \n",
    "    # Convolutional Neural Network\n",
    "    model = Sequential()\n",
    "    model.add(Conv2D(64, (10,10), activation='relu', input_shape=input_shape,\n",
    "                   kernel_initializer=initialize_weights, kernel_regularizer=l2(2e-4)))\n",
    "    model.add(MaxPooling2D())\n",
    "    model.add(Conv2D(128, (7,7), activation='relu',\n",
    "                     kernel_initializer=initialize_weights,\n",
    "                     bias_initializer=initialize_bias, kernel_regularizer=l2(2e-4)))\n",
    "    model.add(MaxPooling2D())\n",
    "    model.add(Conv2D(128, (4,4), activation='relu', kernel_initializer=initialize_weights,\n",
    "                     bias_initializer=initialize_bias, kernel_regularizer=l2(2e-4)))\n",
    "    model.add(MaxPooling2D())\n",
    "    model.add(Conv2D(256, (4,4), activation='relu', kernel_initializer=initialize_weights,\n",
    "                     bias_initializer=initialize_bias, kernel_regularizer=l2(2e-4)))\n",
    "    model.add(Flatten())\n",
    "    model.add(Dense(4096, activation='sigmoid',\n",
    "                   kernel_regularizer=l2(1e-3),\n",
    "                   kernel_initializer=initialize_weights,bias_initializer=initialize_bias))\n",
    "    \n",
    "    # Generate the encodings (feature vectors) for the two images\n",
    "    encoded_l = model(left_input)\n",
    "    encoded_r = model(right_input)\n",
    "    \n",
    "    # Add a customized layer to compute the absolute difference between the encodings\n",
    "    L1_layer = Lambda(lambda tensors:K.abs(tensors[0] - tensors[1]))\n",
    "    L1_distance = L1_layer([encoded_l, encoded_r])\n",
    "    \n",
    "    # Add a dense layer with a sigmoid unit to generate the similarity score\n",
    "    prediction = Dense(1,activation='sigmoid',bias_initializer=initialize_bias)(L1_distance)\n",
    "    \n",
    "    # Connect the inputs with the outputs\n",
    "    siamese_net = Model(inputs=[left_input,right_input],outputs=prediction)\n",
    "    \n",
    "    # return the model\n",
    "    return siamese_net"
   ]
  },
  {
   "cell_type": "code",
   "execution_count": 13,
   "metadata": {},
   "outputs": [
    {
     "name": "stdout",
     "output_type": "stream",
     "text": [
      "WARNING:tensorflow:From /home/osboxes/anaconda3/lib/python3.7/site-packages/tensorflow/python/framework/op_def_library.py:263: colocate_with (from tensorflow.python.framework.ops) is deprecated and will be removed in a future version.\n",
      "Instructions for updating:\n",
      "Colocations handled automatically by placer.\n",
      "__________________________________________________________________________________________________\n",
      "Layer (type)                    Output Shape         Param #     Connected to                     \n",
      "==================================================================================================\n",
      "input_1 (InputLayer)            (None, 128, 128, 1)  0                                            \n",
      "__________________________________________________________________________________________________\n",
      "input_2 (InputLayer)            (None, 128, 128, 1)  0                                            \n",
      "__________________________________________________________________________________________________\n",
      "sequential_1 (Sequential)       (None, 4096)         68307776    input_1[0][0]                    \n",
      "                                                                 input_2[0][0]                    \n",
      "__________________________________________________________________________________________________\n",
      "lambda_1 (Lambda)               (None, 4096)         0           sequential_1[1][0]               \n",
      "                                                                 sequential_1[2][0]               \n",
      "__________________________________________________________________________________________________\n",
      "dense_2 (Dense)                 (None, 1)            4097        lambda_1[0][0]                   \n",
      "==================================================================================================\n",
      "Total params: 68,311,873\n",
      "Trainable params: 68,311,873\n",
      "Non-trainable params: 0\n",
      "__________________________________________________________________________________________________\n"
     ]
    }
   ],
   "source": [
    "model = get_siamese_model((128, 128, 1))\n",
    "model.summary()"
   ]
  },
  {
   "cell_type": "code",
   "execution_count": 14,
   "metadata": {},
   "outputs": [],
   "source": [
    "from IPython.display import Image\n",
    "# Image(retina=True, filename='model.png')"
   ]
  },
  {
   "cell_type": "code",
   "execution_count": 15,
   "metadata": {},
   "outputs": [],
   "source": [
    "optimizer = Adam(lr = 0.00006)\n",
    "model.compile(loss=\"binary_crossentropy\",optimizer=optimizer)"
   ]
  },
  {
   "cell_type": "markdown",
   "metadata": {},
   "source": [
    "### Loading the train tensors"
   ]
  },
  {
   "cell_type": "code",
   "execution_count": 16,
   "metadata": {},
   "outputs": [
    {
     "name": "stdout",
     "output_type": "stream",
     "text": [
      "Training alphabets: \n",
      "\n",
      "['01_katzen']\n"
     ]
    }
   ],
   "source": [
    "with open(os.path.join(save_path, \"train.pickle\"), \"rb\") as f:\n",
    "    (Xtrain, train_classes) = pickle.load(f)\n",
    "    \n",
    "print(\"Training alphabets: \\n\")\n",
    "print(list(train_classes.keys()))"
   ]
  },
  {
   "cell_type": "code",
   "execution_count": 17,
   "metadata": {},
   "outputs": [
    {
     "name": "stdout",
     "output_type": "stream",
     "text": [
      "Validation alphabets:\n",
      "\n",
      "['02_katzen']\n"
     ]
    }
   ],
   "source": [
    "with open(os.path.join(save_path, \"val.pickle\"), \"rb\") as f:\n",
    "    (Xval, val_classes) = pickle.load(f)\n",
    "\n",
    "print(\"Validation alphabets:\", end=\"\\n\\n\")\n",
    "print(list(val_classes.keys()))"
   ]
  },
  {
   "cell_type": "code",
   "execution_count": 18,
   "metadata": {},
   "outputs": [],
   "source": [
    "def get_batch(batch_size,s=\"train\"):\n",
    "    \"\"\"Create batch of n pairs, half same class, half different class\"\"\"\n",
    "    if s == 'train':\n",
    "        X = Xtrain\n",
    "        categories = train_classes\n",
    "    else:\n",
    "        X = Xval\n",
    "        categories = val_classes\n",
    "    \n",
    "    n_classes, n_examples, w, h = X.shape\n",
    "\n",
    "    # randomly sample several classes to use in the batch\n",
    "    categories = rng.choice(n_classes,size=(batch_size,),replace=False)\n",
    "    \n",
    "    # initialize 2 empty arrays for the input image batch\n",
    "    pairs=[np.zeros((batch_size, h, w,1)) for i in range(2)]\n",
    "    \n",
    "    # initialize vector for the targets\n",
    "    targets=np.zeros((batch_size,))\n",
    "    \n",
    "    # make one half of it '1's, so 2nd half of batch has same class\n",
    "    targets[batch_size//2:] = 1\n",
    "    for i in range(batch_size):\n",
    "        category = categories[i]\n",
    "        idx_1 = rng.randint(0, n_examples)\n",
    "        pairs[0][i,:,:,:] = X[category, idx_1].reshape(w, h, 1)\n",
    "        idx_2 = rng.randint(0, n_examples)\n",
    "        \n",
    "        # pick images of same class for 1st half, different for 2nd\n",
    "        if i >= batch_size // 2:\n",
    "            category_2 = category  \n",
    "        else: \n",
    "            # add a random number to the category modulo n classes to ensure 2nd image has a different category\n",
    "            category_2 = (category + rng.randint(1,n_classes)) % n_classes\n",
    "        \n",
    "        pairs[1][i,:,:,:] = X[category_2,idx_2].reshape(w, h,1)\n",
    "    \n",
    "    return pairs, targets"
   ]
  },
  {
   "cell_type": "code",
   "execution_count": 19,
   "metadata": {},
   "outputs": [],
   "source": [
    "def generate(batch_size, s=\"train\"):\n",
    "    \"\"\"a generator for batches, so model.fit_generator can be used. \"\"\"\n",
    "    while True:\n",
    "        pairs, targets = get_batch(batch_size,s)\n",
    "        yield (pairs, targets)"
   ]
  },
  {
   "cell_type": "code",
   "execution_count": 20,
   "metadata": {},
   "outputs": [],
   "source": [
    "def make_oneshot_task(N, s=\"val\", language=None):\n",
    "    \"\"\"Create pairs of test image, support set for testing N way one-shot learning. \"\"\"\n",
    "    if s == 'train':\n",
    "        X = Xtrain\n",
    "        categories = train_classes\n",
    "    else:\n",
    "        X = Xval\n",
    "        categories = val_classes\n",
    "    n_classes, n_examples, w, h = X.shape\n",
    "    \n",
    "    indices = rng.randint(0, n_examples,size=(N,))\n",
    "    if language is not None: # if language is specified, select characters for that language\n",
    "        low, high = categories[language]\n",
    "        if N > high - low:\n",
    "            raise ValueError(\"This language ({}) has less than {} letters\".format(language, N))\n",
    "        categories = rng.choice(range(low,high),size=(N,),replace=False)\n",
    "\n",
    "    else: # if no language specified just pick a bunch of random letters\n",
    "        categories = rng.choice(range(n_classes),size=(N,),replace=False)            \n",
    "    true_category = categories[0]\n",
    "    ex1, ex2 = rng.choice(n_examples,replace=False,size=(2,))\n",
    "    test_image = np.asarray([X[true_category,ex1,:,:]]*N).reshape(N, w, h,1)\n",
    "    support_set = X[categories,indices,:,:]\n",
    "    support_set[0,:,:] = X[true_category,ex2]\n",
    "    support_set = support_set.reshape(N, w, h,1)\n",
    "    targets = np.zeros((N,))\n",
    "    targets[0] = 1\n",
    "    targets, test_image, support_set = shuffle(targets, test_image, support_set)\n",
    "    pairs = [test_image,support_set]\n",
    "\n",
    "    return pairs, targets"
   ]
  },
  {
   "cell_type": "code",
   "execution_count": 21,
   "metadata": {},
   "outputs": [],
   "source": [
    "def test_oneshot(model, N, k, s = \"val\", verbose = 0):\n",
    "    \"\"\"Test average N way oneshot learning accuracy of a siamese neural net over k one-shot tasks\"\"\"\n",
    "    n_correct = 0\n",
    "    if verbose:\n",
    "        print(\"Evaluating model on {} random {} way one-shot learning tasks ... \\n\".format(k,N))\n",
    "    for i in range(k):\n",
    "        inputs, targets = make_oneshot_task(N,s)\n",
    "        probs = model.predict(inputs)\n",
    "        if np.argmax(probs) == np.argmax(targets):\n",
    "            n_correct+=1\n",
    "    percent_correct = (100.0 * n_correct / k)\n",
    "    if verbose:\n",
    "        print(\"Got an average of {}% {} way one-shot learning accuracy \\n\".format(percent_correct,N))\n",
    "    return percent_correct"
   ]
  },
  {
   "cell_type": "code",
   "execution_count": 22,
   "metadata": {},
   "outputs": [],
   "source": [
    "def freeze_session(session, keep_var_names=None, output_names=None, clear_devices=True):\n",
    "    \"\"\"\n",
    "    Freezes the state of a session into a pruned computation graph.\n",
    "\n",
    "    Creates a new computation graph where variable nodes are replaced by\n",
    "    constants taking their current value in the session. The new graph will be\n",
    "    pruned so subgraphs that are not necessary to compute the requested\n",
    "    outputs are removed.\n",
    "    @param session The TensorFlow session to be frozen.\n",
    "    @param keep_var_names A list of variable names that should not be frozen,\n",
    "                          or None to freeze all the variables in the graph.\n",
    "    @param output_names Names of the relevant graph outputs.\n",
    "    @param clear_devices Remove the device directives from the graph for better portability.\n",
    "    @return The frozen graph definition.\n",
    "    \"\"\"\n",
    "    graph = session.graph\n",
    "    with graph.as_default():\n",
    "        freeze_var_names = list(set(v.op.name for v in tf.global_variables()).difference(keep_var_names or []))\n",
    "        output_names = output_names or []\n",
    "        output_names += [v.op.name for v in tf.global_variables()]\n",
    "        input_graph_def = graph.as_graph_def()\n",
    "        if clear_devices:\n",
    "            for node in input_graph_def.node:\n",
    "                node.device = \"\"\n",
    "        frozen_graph = tf.graph_util.convert_variables_to_constants(\n",
    "            session, input_graph_def, output_names, freeze_var_names)\n",
    "        return frozen_graph"
   ]
  },
  {
   "cell_type": "code",
   "execution_count": 23,
   "metadata": {},
   "outputs": [],
   "source": [
    "# Hyper parameters\n",
    "evaluate_every = 50 # interval for evaluating on one-shot tasks\n",
    "batch_size = 4\n",
    "n_iter = 500 # No. of training iterations\n",
    "N_way = 2 # how many classes for testing one-shot tasks\n",
    "n_val = 20 # how many one-shot tasks to validate on\n",
    "best = -1"
   ]
  },
  {
   "cell_type": "code",
   "execution_count": 45,
   "metadata": {},
   "outputs": [],
   "source": [
    "model_path = '../01_weights/'\n",
    "frozen_path = '../01_frozen'\n",
    "onnx_path = '../01_onnx'"
   ]
  },
  {
   "cell_type": "code",
   "execution_count": 46,
   "metadata": {},
   "outputs": [
    {
     "name": "stdout",
     "output_type": "stream",
     "text": [
      "Starting training process!\n",
      "-------------------------------------\n",
      "\n",
      " ------------- \n",
      "\n",
      "Time for 50 iterations: 1.783452026049296 mins\n",
      "Train Loss: 2.26788330078125\n",
      "Evaluating model on 20 random 2 way one-shot learning tasks ... \n",
      "\n",
      "Got an average of 85.0% 2 way one-shot learning accuracy \n",
      "\n",
      "WARNING:tensorflow:From /home/osboxes/anaconda3/lib/python3.7/site-packages/keras2onnx/subgraph.py:140: tensor_shape_from_node_def_name (from tensorflow.python.framework.graph_util_impl) is deprecated and will be removed in a future version.\n",
      "Instructions for updating:\n",
      "Use tf.compat.v1.graph_util.remove_training_nodes\n",
      "using tensorflow=1.13.1, onnx=1.5.0, opset=10, tfonnx=1.5.0/82f805\n",
      "using tensorflow=1.13.1, onnx=1.5.0, opset=10, tfonnx=1.5.0/82f805\n",
      "using tensorflow=1.13.1, onnx=1.5.0, opset=10, tfonnx=1.5.0/82f805\n",
      "using tensorflow=1.13.1, onnx=1.5.0, opset=10, tfonnx=1.5.0/82f805\n",
      "using tensorflow=1.13.1, onnx=1.5.0, opset=10, tfonnx=1.5.0/82f805\n",
      "using tensorflow=1.13.1, onnx=1.5.0, opset=10, tfonnx=1.5.0/82f805\n",
      "using tensorflow=1.13.1, onnx=1.5.0, opset=10, tfonnx=1.5.0/82f805\n",
      "using tensorflow=1.13.1, onnx=1.5.0, opset=10, tfonnx=1.5.0/82f805\n",
      "using tensorflow=1.13.1, onnx=1.5.0, opset=10, tfonnx=1.5.0/82f805\n",
      "using tensorflow=1.13.1, onnx=1.5.0, opset=10, tfonnx=1.5.0/82f805\n",
      "using tensorflow=1.13.1, onnx=1.5.0, opset=10, tfonnx=1.5.0/82f805\n",
      "using tensorflow=1.13.1, onnx=1.5.0, opset=10, tfonnx=1.5.0/82f805\n",
      "using tensorflow=1.13.1, onnx=1.5.0, opset=10, tfonnx=1.5.0/82f805\n",
      "\n",
      " ------------- \n",
      "\n",
      "Time for 100 iterations: 4.128301652272542 mins\n",
      "Train Loss: 2.238377094268799\n",
      "Evaluating model on 20 random 2 way one-shot learning tasks ... \n",
      "\n",
      "Got an average of 95.0% 2 way one-shot learning accuracy \n",
      "\n",
      "using tensorflow=1.13.1, onnx=1.5.0, opset=10, tfonnx=1.5.0/82f805\n",
      "using tensorflow=1.13.1, onnx=1.5.0, opset=10, tfonnx=1.5.0/82f805\n",
      "using tensorflow=1.13.1, onnx=1.5.0, opset=10, tfonnx=1.5.0/82f805\n",
      "using tensorflow=1.13.1, onnx=1.5.0, opset=10, tfonnx=1.5.0/82f805\n",
      "using tensorflow=1.13.1, onnx=1.5.0, opset=10, tfonnx=1.5.0/82f805\n",
      "using tensorflow=1.13.1, onnx=1.5.0, opset=10, tfonnx=1.5.0/82f805\n",
      "using tensorflow=1.13.1, onnx=1.5.0, opset=10, tfonnx=1.5.0/82f805\n",
      "using tensorflow=1.13.1, onnx=1.5.0, opset=10, tfonnx=1.5.0/82f805\n",
      "using tensorflow=1.13.1, onnx=1.5.0, opset=10, tfonnx=1.5.0/82f805\n",
      "using tensorflow=1.13.1, onnx=1.5.0, opset=10, tfonnx=1.5.0/82f805\n",
      "using tensorflow=1.13.1, onnx=1.5.0, opset=10, tfonnx=1.5.0/82f805\n",
      "using tensorflow=1.13.1, onnx=1.5.0, opset=10, tfonnx=1.5.0/82f805\n",
      "using tensorflow=1.13.1, onnx=1.5.0, opset=10, tfonnx=1.5.0/82f805\n",
      "Current best: 95.0, previous best: 90.0\n",
      "\n",
      " ------------- \n",
      "\n",
      "Time for 150 iterations: 6.419501705964406 mins\n",
      "Train Loss: 2.0832479000091553\n",
      "Evaluating model on 20 random 2 way one-shot learning tasks ... \n",
      "\n",
      "Got an average of 70.0% 2 way one-shot learning accuracy \n",
      "\n",
      "using tensorflow=1.13.1, onnx=1.5.0, opset=10, tfonnx=1.5.0/82f805\n",
      "using tensorflow=1.13.1, onnx=1.5.0, opset=10, tfonnx=1.5.0/82f805\n",
      "using tensorflow=1.13.1, onnx=1.5.0, opset=10, tfonnx=1.5.0/82f805\n",
      "using tensorflow=1.13.1, onnx=1.5.0, opset=10, tfonnx=1.5.0/82f805\n",
      "using tensorflow=1.13.1, onnx=1.5.0, opset=10, tfonnx=1.5.0/82f805\n",
      "using tensorflow=1.13.1, onnx=1.5.0, opset=10, tfonnx=1.5.0/82f805\n",
      "using tensorflow=1.13.1, onnx=1.5.0, opset=10, tfonnx=1.5.0/82f805\n",
      "using tensorflow=1.13.1, onnx=1.5.0, opset=10, tfonnx=1.5.0/82f805\n",
      "using tensorflow=1.13.1, onnx=1.5.0, opset=10, tfonnx=1.5.0/82f805\n",
      "using tensorflow=1.13.1, onnx=1.5.0, opset=10, tfonnx=1.5.0/82f805\n",
      "using tensorflow=1.13.1, onnx=1.5.0, opset=10, tfonnx=1.5.0/82f805\n",
      "using tensorflow=1.13.1, onnx=1.5.0, opset=10, tfonnx=1.5.0/82f805\n",
      "using tensorflow=1.13.1, onnx=1.5.0, opset=10, tfonnx=1.5.0/82f805\n",
      "\n",
      " ------------- \n",
      "\n",
      "Time for 200 iterations: 8.699707798163097 mins\n",
      "Train Loss: 1.796271800994873\n",
      "Evaluating model on 20 random 2 way one-shot learning tasks ... \n",
      "\n",
      "Got an average of 80.0% 2 way one-shot learning accuracy \n",
      "\n",
      "using tensorflow=1.13.1, onnx=1.5.0, opset=10, tfonnx=1.5.0/82f805\n",
      "using tensorflow=1.13.1, onnx=1.5.0, opset=10, tfonnx=1.5.0/82f805\n",
      "using tensorflow=1.13.1, onnx=1.5.0, opset=10, tfonnx=1.5.0/82f805\n",
      "using tensorflow=1.13.1, onnx=1.5.0, opset=10, tfonnx=1.5.0/82f805\n",
      "using tensorflow=1.13.1, onnx=1.5.0, opset=10, tfonnx=1.5.0/82f805\n",
      "using tensorflow=1.13.1, onnx=1.5.0, opset=10, tfonnx=1.5.0/82f805\n",
      "using tensorflow=1.13.1, onnx=1.5.0, opset=10, tfonnx=1.5.0/82f805\n",
      "using tensorflow=1.13.1, onnx=1.5.0, opset=10, tfonnx=1.5.0/82f805\n",
      "using tensorflow=1.13.1, onnx=1.5.0, opset=10, tfonnx=1.5.0/82f805\n",
      "using tensorflow=1.13.1, onnx=1.5.0, opset=10, tfonnx=1.5.0/82f805\n",
      "using tensorflow=1.13.1, onnx=1.5.0, opset=10, tfonnx=1.5.0/82f805\n",
      "using tensorflow=1.13.1, onnx=1.5.0, opset=10, tfonnx=1.5.0/82f805\n",
      "using tensorflow=1.13.1, onnx=1.5.0, opset=10, tfonnx=1.5.0/82f805\n",
      "\n",
      " ------------- \n",
      "\n",
      "Time for 250 iterations: 10.992763515313467 mins\n",
      "Train Loss: 1.9381951093673706\n",
      "Evaluating model on 20 random 2 way one-shot learning tasks ... \n",
      "\n",
      "Got an average of 65.0% 2 way one-shot learning accuracy \n",
      "\n",
      "using tensorflow=1.13.1, onnx=1.5.0, opset=10, tfonnx=1.5.0/82f805\n",
      "using tensorflow=1.13.1, onnx=1.5.0, opset=10, tfonnx=1.5.0/82f805\n",
      "using tensorflow=1.13.1, onnx=1.5.0, opset=10, tfonnx=1.5.0/82f805\n",
      "using tensorflow=1.13.1, onnx=1.5.0, opset=10, tfonnx=1.5.0/82f805\n",
      "using tensorflow=1.13.1, onnx=1.5.0, opset=10, tfonnx=1.5.0/82f805\n",
      "using tensorflow=1.13.1, onnx=1.5.0, opset=10, tfonnx=1.5.0/82f805\n",
      "using tensorflow=1.13.1, onnx=1.5.0, opset=10, tfonnx=1.5.0/82f805\n",
      "using tensorflow=1.13.1, onnx=1.5.0, opset=10, tfonnx=1.5.0/82f805\n",
      "using tensorflow=1.13.1, onnx=1.5.0, opset=10, tfonnx=1.5.0/82f805\n",
      "using tensorflow=1.13.1, onnx=1.5.0, opset=10, tfonnx=1.5.0/82f805\n",
      "using tensorflow=1.13.1, onnx=1.5.0, opset=10, tfonnx=1.5.0/82f805\n",
      "using tensorflow=1.13.1, onnx=1.5.0, opset=10, tfonnx=1.5.0/82f805\n",
      "using tensorflow=1.13.1, onnx=1.5.0, opset=10, tfonnx=1.5.0/82f805\n",
      "\n",
      " ------------- \n",
      "\n",
      "Time for 300 iterations: 13.32673415740331 mins\n",
      "Train Loss: 1.6162090301513672\n",
      "Evaluating model on 20 random 2 way one-shot learning tasks ... \n",
      "\n",
      "Got an average of 70.0% 2 way one-shot learning accuracy \n",
      "\n",
      "using tensorflow=1.13.1, onnx=1.5.0, opset=10, tfonnx=1.5.0/82f805\n",
      "using tensorflow=1.13.1, onnx=1.5.0, opset=10, tfonnx=1.5.0/82f805\n",
      "using tensorflow=1.13.1, onnx=1.5.0, opset=10, tfonnx=1.5.0/82f805\n",
      "using tensorflow=1.13.1, onnx=1.5.0, opset=10, tfonnx=1.5.0/82f805\n",
      "using tensorflow=1.13.1, onnx=1.5.0, opset=10, tfonnx=1.5.0/82f805\n",
      "using tensorflow=1.13.1, onnx=1.5.0, opset=10, tfonnx=1.5.0/82f805\n",
      "using tensorflow=1.13.1, onnx=1.5.0, opset=10, tfonnx=1.5.0/82f805\n",
      "using tensorflow=1.13.1, onnx=1.5.0, opset=10, tfonnx=1.5.0/82f805\n",
      "using tensorflow=1.13.1, onnx=1.5.0, opset=10, tfonnx=1.5.0/82f805\n",
      "using tensorflow=1.13.1, onnx=1.5.0, opset=10, tfonnx=1.5.0/82f805\n",
      "using tensorflow=1.13.1, onnx=1.5.0, opset=10, tfonnx=1.5.0/82f805\n",
      "using tensorflow=1.13.1, onnx=1.5.0, opset=10, tfonnx=1.5.0/82f805\n",
      "using tensorflow=1.13.1, onnx=1.5.0, opset=10, tfonnx=1.5.0/82f805\n",
      "\n",
      " ------------- \n",
      "\n",
      "Time for 350 iterations: 15.618930435180664 mins\n",
      "Train Loss: 1.8273823261260986\n",
      "Evaluating model on 20 random 2 way one-shot learning tasks ... \n",
      "\n",
      "Got an average of 80.0% 2 way one-shot learning accuracy \n",
      "\n",
      "using tensorflow=1.13.1, onnx=1.5.0, opset=10, tfonnx=1.5.0/82f805\n",
      "using tensorflow=1.13.1, onnx=1.5.0, opset=10, tfonnx=1.5.0/82f805\n",
      "using tensorflow=1.13.1, onnx=1.5.0, opset=10, tfonnx=1.5.0/82f805\n",
      "using tensorflow=1.13.1, onnx=1.5.0, opset=10, tfonnx=1.5.0/82f805\n",
      "using tensorflow=1.13.1, onnx=1.5.0, opset=10, tfonnx=1.5.0/82f805\n",
      "using tensorflow=1.13.1, onnx=1.5.0, opset=10, tfonnx=1.5.0/82f805\n",
      "using tensorflow=1.13.1, onnx=1.5.0, opset=10, tfonnx=1.5.0/82f805\n",
      "using tensorflow=1.13.1, onnx=1.5.0, opset=10, tfonnx=1.5.0/82f805\n",
      "using tensorflow=1.13.1, onnx=1.5.0, opset=10, tfonnx=1.5.0/82f805\n",
      "using tensorflow=1.13.1, onnx=1.5.0, opset=10, tfonnx=1.5.0/82f805\n",
      "using tensorflow=1.13.1, onnx=1.5.0, opset=10, tfonnx=1.5.0/82f805\n",
      "using tensorflow=1.13.1, onnx=1.5.0, opset=10, tfonnx=1.5.0/82f805\n",
      "using tensorflow=1.13.1, onnx=1.5.0, opset=10, tfonnx=1.5.0/82f805\n",
      "\n",
      " ------------- \n",
      "\n",
      "Time for 400 iterations: 17.895318154493967 mins\n",
      "Train Loss: 1.6621981859207153\n",
      "Evaluating model on 20 random 2 way one-shot learning tasks ... \n",
      "\n"
     ]
    },
    {
     "name": "stdout",
     "output_type": "stream",
     "text": [
      "Got an average of 80.0% 2 way one-shot learning accuracy \n",
      "\n",
      "using tensorflow=1.13.1, onnx=1.5.0, opset=10, tfonnx=1.5.0/82f805\n",
      "using tensorflow=1.13.1, onnx=1.5.0, opset=10, tfonnx=1.5.0/82f805\n",
      "using tensorflow=1.13.1, onnx=1.5.0, opset=10, tfonnx=1.5.0/82f805\n",
      "using tensorflow=1.13.1, onnx=1.5.0, opset=10, tfonnx=1.5.0/82f805\n",
      "using tensorflow=1.13.1, onnx=1.5.0, opset=10, tfonnx=1.5.0/82f805\n",
      "using tensorflow=1.13.1, onnx=1.5.0, opset=10, tfonnx=1.5.0/82f805\n",
      "using tensorflow=1.13.1, onnx=1.5.0, opset=10, tfonnx=1.5.0/82f805\n",
      "using tensorflow=1.13.1, onnx=1.5.0, opset=10, tfonnx=1.5.0/82f805\n",
      "using tensorflow=1.13.1, onnx=1.5.0, opset=10, tfonnx=1.5.0/82f805\n",
      "using tensorflow=1.13.1, onnx=1.5.0, opset=10, tfonnx=1.5.0/82f805\n",
      "using tensorflow=1.13.1, onnx=1.5.0, opset=10, tfonnx=1.5.0/82f805\n",
      "using tensorflow=1.13.1, onnx=1.5.0, opset=10, tfonnx=1.5.0/82f805\n",
      "using tensorflow=1.13.1, onnx=1.5.0, opset=10, tfonnx=1.5.0/82f805\n",
      "\n",
      " ------------- \n",
      "\n",
      "Time for 450 iterations: 20.19915419816971 mins\n",
      "Train Loss: 1.613874077796936\n",
      "Evaluating model on 20 random 2 way one-shot learning tasks ... \n",
      "\n",
      "Got an average of 90.0% 2 way one-shot learning accuracy \n",
      "\n",
      "using tensorflow=1.13.1, onnx=1.5.0, opset=10, tfonnx=1.5.0/82f805\n",
      "using tensorflow=1.13.1, onnx=1.5.0, opset=10, tfonnx=1.5.0/82f805\n",
      "using tensorflow=1.13.1, onnx=1.5.0, opset=10, tfonnx=1.5.0/82f805\n",
      "using tensorflow=1.13.1, onnx=1.5.0, opset=10, tfonnx=1.5.0/82f805\n",
      "using tensorflow=1.13.1, onnx=1.5.0, opset=10, tfonnx=1.5.0/82f805\n",
      "using tensorflow=1.13.1, onnx=1.5.0, opset=10, tfonnx=1.5.0/82f805\n",
      "using tensorflow=1.13.1, onnx=1.5.0, opset=10, tfonnx=1.5.0/82f805\n",
      "using tensorflow=1.13.1, onnx=1.5.0, opset=10, tfonnx=1.5.0/82f805\n",
      "using tensorflow=1.13.1, onnx=1.5.0, opset=10, tfonnx=1.5.0/82f805\n",
      "using tensorflow=1.13.1, onnx=1.5.0, opset=10, tfonnx=1.5.0/82f805\n",
      "using tensorflow=1.13.1, onnx=1.5.0, opset=10, tfonnx=1.5.0/82f805\n",
      "using tensorflow=1.13.1, onnx=1.5.0, opset=10, tfonnx=1.5.0/82f805\n",
      "using tensorflow=1.13.1, onnx=1.5.0, opset=10, tfonnx=1.5.0/82f805\n",
      "\n",
      " ------------- \n",
      "\n",
      "Time for 500 iterations: 22.508063117663067 mins\n",
      "Train Loss: 1.4865961074829102\n",
      "Evaluating model on 20 random 2 way one-shot learning tasks ... \n",
      "\n",
      "Got an average of 85.0% 2 way one-shot learning accuracy \n",
      "\n",
      "using tensorflow=1.13.1, onnx=1.5.0, opset=10, tfonnx=1.5.0/82f805\n",
      "using tensorflow=1.13.1, onnx=1.5.0, opset=10, tfonnx=1.5.0/82f805\n",
      "using tensorflow=1.13.1, onnx=1.5.0, opset=10, tfonnx=1.5.0/82f805\n",
      "using tensorflow=1.13.1, onnx=1.5.0, opset=10, tfonnx=1.5.0/82f805\n",
      "using tensorflow=1.13.1, onnx=1.5.0, opset=10, tfonnx=1.5.0/82f805\n",
      "using tensorflow=1.13.1, onnx=1.5.0, opset=10, tfonnx=1.5.0/82f805\n",
      "using tensorflow=1.13.1, onnx=1.5.0, opset=10, tfonnx=1.5.0/82f805\n",
      "using tensorflow=1.13.1, onnx=1.5.0, opset=10, tfonnx=1.5.0/82f805\n",
      "using tensorflow=1.13.1, onnx=1.5.0, opset=10, tfonnx=1.5.0/82f805\n",
      "using tensorflow=1.13.1, onnx=1.5.0, opset=10, tfonnx=1.5.0/82f805\n",
      "using tensorflow=1.13.1, onnx=1.5.0, opset=10, tfonnx=1.5.0/82f805\n",
      "using tensorflow=1.13.1, onnx=1.5.0, opset=10, tfonnx=1.5.0/82f805\n",
      "using tensorflow=1.13.1, onnx=1.5.0, opset=10, tfonnx=1.5.0/82f805\n"
     ]
    }
   ],
   "source": [
    "print(\"Starting training process!\")\n",
    "print(\"-------------------------------------\")\n",
    "t_start = time.time()\n",
    "for i in range(1, n_iter+1):\n",
    "    (inputs,targets) = get_batch(batch_size)\n",
    "    loss = model.train_on_batch(inputs, targets)\n",
    "    if i % evaluate_every == 0:\n",
    "        print(\"\\n ------------- \\n\")\n",
    "        print(\"Time for {0} iterations: {1} mins\".format(i, (time.time()-t_start)/60.0))\n",
    "        print(\"Train Loss: {0}\".format(loss)) \n",
    "        val_acc = test_oneshot(model, N_way, n_val, verbose=True)\n",
    "        model.save_weights(os.path.join(model_path, 'weights.{}.h5'.format(i)))\n",
    "        # frozen_graph = freeze_session(K.get_session())\n",
    "        # tf.train.write_graph(frozen_graph,'.',os.path.join(frozen_path, 'graph.{}.pb'.format(i)),as_text=False)\n",
    "        onnx_model = keras2onnx.convert_keras(model, 'siamese_net') \n",
    "        onnx.save_model(onnx_model, os.path.join(onnx_path, 'onnx.{}.onnx'.format(i)))\n",
    "        if val_acc >= best:\n",
    "            print(\"Current best: {0}, previous best: {1}\".format(val_acc, best))\n",
    "            best = val_acc"
   ]
  },
  {
   "cell_type": "code",
   "execution_count": 73,
   "metadata": {},
   "outputs": [
    {
     "data": {
      "image/png": "[encoded data removed]",
      "text/plain": [
       "<Figure size 432x288 with 2 Axes>"
      ]
     },
     "metadata": {
      "needs_background": "light"
     },
     "output_type": "display_data"
    },
    {
     "name": "stdout",
     "output_type": "stream",
     "text": [
      "[[0.44063047]\n",
      " [0.57403636]]\n",
      "[0. 1.]\n"
     ]
    }
   ],
   "source": [
    "model.load_weights(os.path.join(model_path, \"weights.100.h5\"))\n",
    "pairs, targets = make_oneshot_task(2,\"test\",\"02_katzen\")\n",
    "plot_oneshot_task(pairs)\n",
    "print(model.predict(pairs))\n",
    "print(targets)"
   ]
  },
  {
   "cell_type": "markdown",
   "metadata": {},
   "source": [
    "### Load model weights"
   ]
  },
  {
   "cell_type": "code",
   "execution_count": 16,
   "metadata": {},
   "outputs": [],
   "source": [
    "model.load_weights(os.path.join(model_path, \"weights.20000.h5\"))"
   ]
  },
  {
   "cell_type": "markdown",
   "metadata": {},
   "source": [
    "### Testing"
   ]
  },
  {
   "cell_type": "markdown",
   "metadata": {},
   "source": [
    "### Baseline model based on Nearest Neighbors using Euclidean distance (L2 distance)"
   ]
  },
  {
   "cell_type": "code",
   "execution_count": 17,
   "metadata": {},
   "outputs": [],
   "source": [
    "def nearest_neighbour_correct(pairs,targets):\n",
    "    \"\"\"returns 1 if nearest neighbour gets the correct answer for a one-shot task\n",
    "        given by (pairs, targets)\"\"\"\n",
    "    L2_distances = np.zeros_like(targets)\n",
    "    for i in range(len(targets)):\n",
    "        L2_distances[i] = np.sum(np.sqrt(pairs[0][i]**2 - pairs[1][i]**2))\n",
    "    if np.argmin(L2_distances) == np.argmax(targets):\n",
    "        return 1\n",
    "    return 0"
   ]
  },
  {
   "cell_type": "code",
   "execution_count": 18,
   "metadata": {},
   "outputs": [],
   "source": [
    "def test_nn_accuracy(N_ways,n_trials):\n",
    "    \"\"\"Returns accuracy of NN approach \"\"\"\n",
    "    print(\"Evaluating nearest neighbour on {} unique {} way one-shot learning tasks ...\".format(n_trials,N_ways))\n",
    "\n",
    "    n_right = 0\n",
    "    \n",
    "    for i in range(n_trials):\n",
    "        pairs,targets = make_oneshot_task(N_ways,\"val\")\n",
    "        correct = nearest_neighbour_correct(pairs,targets)\n",
    "        n_right += correct\n",
    "    return 100.0 * n_right / n_trials"
   ]
  },
  {
   "cell_type": "code",
   "execution_count": 19,
   "metadata": {},
   "outputs": [],
   "source": [
    "ways = np.arange(1,20,2)\n",
    "resume =  False\n",
    "trials = 50"
   ]
  },
  {
   "cell_type": "code",
   "execution_count": 35,
   "metadata": {},
   "outputs": [
    {
     "name": "stdout",
     "output_type": "stream",
     "text": [
      "Evaluating model on 50 random 1 way one-shot learning tasks ... \n",
      "\n",
      "Got an average of 100.0% 1 way one-shot learning accuracy \n",
      "\n",
      "Evaluating model on 50 random 1 way one-shot learning tasks ... \n",
      "\n",
      "Got an average of 100.0% 1 way one-shot learning accuracy \n",
      "\n",
      "Evaluating nearest neighbour on 50 unique 1 way one-shot learning tasks ...\n",
      "NN Accuracy =  100.0\n",
      "---------------------------------------------------------------------------------------------------------------\n",
      "Evaluating model on 50 random 3 way one-shot learning tasks ... \n",
      "\n",
      "Got an average of 96.0% 3 way one-shot learning accuracy \n",
      "\n",
      "Evaluating model on 50 random 3 way one-shot learning tasks ... \n",
      "\n",
      "Got an average of 100.0% 3 way one-shot learning accuracy \n",
      "\n",
      "Evaluating nearest neighbour on 50 unique 3 way one-shot learning tasks ...\n",
      "NN Accuracy =  62.0\n",
      "---------------------------------------------------------------------------------------------------------------\n",
      "Evaluating model on 50 random 5 way one-shot learning tasks ... \n",
      "\n",
      "Got an average of 98.0% 5 way one-shot learning accuracy \n",
      "\n",
      "Evaluating model on 50 random 5 way one-shot learning tasks ... \n",
      "\n",
      "Got an average of 100.0% 5 way one-shot learning accuracy \n",
      "\n",
      "Evaluating nearest neighbour on 50 unique 5 way one-shot learning tasks ...\n",
      "NN Accuracy =  46.0\n",
      "---------------------------------------------------------------------------------------------------------------\n",
      "Evaluating model on 50 random 7 way one-shot learning tasks ... \n",
      "\n",
      "Got an average of 90.0% 7 way one-shot learning accuracy \n",
      "\n",
      "Evaluating model on 50 random 7 way one-shot learning tasks ... \n",
      "\n",
      "Got an average of 98.0% 7 way one-shot learning accuracy \n",
      "\n",
      "Evaluating nearest neighbour on 50 unique 7 way one-shot learning tasks ...\n",
      "NN Accuracy =  34.0\n",
      "---------------------------------------------------------------------------------------------------------------\n",
      "Evaluating model on 50 random 9 way one-shot learning tasks ... \n",
      "\n",
      "Got an average of 92.0% 9 way one-shot learning accuracy \n",
      "\n",
      "Evaluating model on 50 random 9 way one-shot learning tasks ... \n",
      "\n",
      "Got an average of 98.0% 9 way one-shot learning accuracy \n",
      "\n",
      "Evaluating nearest neighbour on 50 unique 9 way one-shot learning tasks ...\n",
      "NN Accuracy =  34.0\n",
      "---------------------------------------------------------------------------------------------------------------\n",
      "Evaluating model on 50 random 11 way one-shot learning tasks ... \n",
      "\n",
      "Got an average of 88.0% 11 way one-shot learning accuracy \n",
      "\n",
      "Evaluating model on 50 random 11 way one-shot learning tasks ... \n",
      "\n",
      "Got an average of 96.0% 11 way one-shot learning accuracy \n",
      "\n",
      "Evaluating nearest neighbour on 50 unique 11 way one-shot learning tasks ...\n",
      "NN Accuracy =  26.0\n",
      "---------------------------------------------------------------------------------------------------------------\n",
      "Evaluating model on 50 random 13 way one-shot learning tasks ... \n",
      "\n",
      "Got an average of 82.0% 13 way one-shot learning accuracy \n",
      "\n",
      "Evaluating model on 50 random 13 way one-shot learning tasks ... \n",
      "\n",
      "Got an average of 94.0% 13 way one-shot learning accuracy \n",
      "\n",
      "Evaluating nearest neighbour on 50 unique 13 way one-shot learning tasks ...\n",
      "NN Accuracy =  28.0\n",
      "---------------------------------------------------------------------------------------------------------------\n",
      "Evaluating model on 50 random 15 way one-shot learning tasks ... \n",
      "\n",
      "Got an average of 86.0% 15 way one-shot learning accuracy \n",
      "\n",
      "Evaluating model on 50 random 15 way one-shot learning tasks ... \n",
      "\n",
      "Got an average of 98.0% 15 way one-shot learning accuracy \n",
      "\n",
      "Evaluating nearest neighbour on 50 unique 15 way one-shot learning tasks ...\n",
      "NN Accuracy =  26.0\n",
      "---------------------------------------------------------------------------------------------------------------\n",
      "Evaluating model on 50 random 17 way one-shot learning tasks ... \n",
      "\n",
      "Got an average of 82.0% 17 way one-shot learning accuracy \n",
      "\n",
      "Evaluating model on 50 random 17 way one-shot learning tasks ... \n",
      "\n",
      "Got an average of 100.0% 17 way one-shot learning accuracy \n",
      "\n",
      "Evaluating nearest neighbour on 50 unique 17 way one-shot learning tasks ...\n",
      "NN Accuracy =  30.0\n",
      "---------------------------------------------------------------------------------------------------------------\n",
      "Evaluating model on 50 random 19 way one-shot learning tasks ... \n",
      "\n",
      "Got an average of 76.0% 19 way one-shot learning accuracy \n",
      "\n",
      "Evaluating model on 50 random 19 way one-shot learning tasks ... \n",
      "\n",
      "Got an average of 96.0% 19 way one-shot learning accuracy \n",
      "\n",
      "Evaluating nearest neighbour on 50 unique 19 way one-shot learning tasks ...\n",
      "NN Accuracy =  30.0\n",
      "---------------------------------------------------------------------------------------------------------------\n"
     ]
    }
   ],
   "source": [
    "val_accs, train_accs,nn_accs = [], [], []\n",
    "for N in ways:    \n",
    "    val_accs.append(test_oneshot(model, N, trials, \"val\", verbose=True))\n",
    "    train_accs.append(test_oneshot(model, N, trials, \"train\", verbose=True))\n",
    "    nn_acc = test_nn_accuracy(N, trials)\n",
    "    nn_accs.append(nn_acc)\n",
    "    print (\"NN Accuracy = \", nn_acc)\n",
    "    print(\"---------------------------------------------------------------------------------------------------------------\")"
   ]
  },
  {
   "cell_type": "markdown",
   "metadata": {},
   "source": [
    "### Save the accuracies on disk"
   ]
  },
  {
   "cell_type": "code",
   "execution_count": 36,
   "metadata": {},
   "outputs": [],
   "source": [
    "with open(os.path.join(save_path,\"accuracies.pickle\"), \"wb\") as f:\n",
    "    pickle.dump((val_accs,train_accs,nn_accs),f)"
   ]
  },
  {
   "cell_type": "markdown",
   "metadata": {},
   "source": [
    "### Load the accuracies from disk"
   ]
  },
  {
   "cell_type": "code",
   "execution_count": 20,
   "metadata": {},
   "outputs": [],
   "source": [
    "with open(os.path.join(save_path, \"accuracies.pickle\"), \"rb\") as f:\n",
    "    (val_accs, train_accs, nn_accs) = pickle.load(f)"
   ]
  },
  {
   "cell_type": "markdown",
   "metadata": {},
   "source": [
    "### Below two functions are used for visualizing test image and support set"
   ]
  },
  {
   "cell_type": "code",
   "execution_count": 28,
   "metadata": {},
   "outputs": [],
   "source": [
    "def concat_images(X):\n",
    "    \"\"\"Concatenates a bunch of images into a big matrix for plotting purposes.\"\"\"\n",
    "    nc, h , w, _ = X.shape\n",
    "    X = X.reshape(nc, h, w)\n",
    "    n = np.ceil(np.sqrt(nc)).astype(\"int8\")\n",
    "    img = np.zeros((n*w,n*h))\n",
    "    x = 0\n",
    "    y = 0\n",
    "    for example in range(nc):\n",
    "        img[x*w:(x+1)*w,y*h:(y+1)*h] = X[example]\n",
    "        y += 1\n",
    "        if y >= n:\n",
    "            y = 0\n",
    "            x += 1\n",
    "    return img"
   ]
  },
  {
   "cell_type": "code",
   "execution_count": 29,
   "metadata": {},
   "outputs": [],
   "source": [
    "def plot_oneshot_task(pairs):\n",
    "    fig,(ax1,ax2) = plt.subplots(nrows=1, ncols=2)\n",
    "    ax1.matshow(pairs[0][0].reshape(128,128), cmap='CMRmap')\n",
    "    img = concat_images(pairs[1])\n",
    "    ax1.get_yaxis().set_visible(False)\n",
    "    ax1.get_xaxis().set_visible(False)\n",
    "    ax2.matshow(img,cmap='CMRmap')\n",
    "    plt.xticks([])\n",
    "    plt.yticks([])\n",
    "    plt.show()"
   ]
  },
  {
   "cell_type": "code",
   "execution_count": 131,
   "metadata": {},
   "outputs": [
    {
     "data": {
      "image/png": "[encoded data removed]",
      "text/plain": [
       "<Figure size 432x288 with 2 Axes>"
      ]
     },
     "metadata": {
      "needs_background": "light"
     },
     "output_type": "display_data"
    }
   ],
   "source": [
    "# Example of concat image visualization\n",
    "pairs, targets = make_oneshot_task(2,\"train\",\"01_katzen\")\n",
    "plot_oneshot_task(pairs)"
   ]
  },
  {
   "cell_type": "markdown",
   "metadata": {},
   "source": [
    "### Resuts"
   ]
  },
  {
   "cell_type": "code",
   "execution_count": 41,
   "metadata": {},
   "outputs": [
    {
     "data": {
      "image/png": "[encoded data removed]",
      "text/plain": [
       "<Figure size 432x288 with 1 Axes>"
      ]
     },
     "metadata": {},
     "output_type": "display_data"
    },
    {
     "data": {
      "image/png": "[encoded data removed]",
      "text/plain": [
       "<Figure size 432x288 with 2 Axes>"
      ]
     },
     "metadata": {},
     "output_type": "display_data"
    }
   ],
   "source": [
    "fig,ax = plt.subplots(1)\n",
    "ax.plot(ways, val_accs, \"m\", label=\"Siamese(val set)\")\n",
    "ax.plot(ways, train_accs, \"y\", label=\"Siamese(train set)\")\n",
    "plt.plot(ways, nn_accs, label=\"Nearest neighbour\")\n",
    "\n",
    "ax.plot(ways, 100.0/ways, \"g\", label=\"Random guessing\")\n",
    "plt.xlabel(\"Number of possible classes in one-shot tasks\")\n",
    "plt.ylabel(\"% Accuracy\")\n",
    "plt.title(\"Omiglot One-Shot Learning Performance of a Siamese Network\")\n",
    "box = ax.get_position()\n",
    "ax.set_position([box.x0, box.y0, box.width * 0.8, box.height])\n",
    "ax.legend(loc='center left', bbox_to_anchor=(1, 0.5))\n",
    "inputs,targets = make_oneshot_task(20, \"val\", 'Oriya')\n",
    "plt.show()\n",
    "\n",
    "plot_oneshot_task(inputs)"
   ]
  },
  {
   "cell_type": "code",
   "execution_count": null,
   "metadata": {},
   "outputs": [],
   "source": []
  }
 ],
 "metadata": {
  "kernelspec": {
   "display_name": "Python 3",
   "language": "python",
   "name": "python3"
  },
  "language_info": {
   "codemirror_mode": {
    "name": "ipython",
    "version": 3
   },
   "file_extension": ".py",
   "mimetype": "text/x-python",
   "name": "python",
   "nbconvert_exporter": "python",
   "pygments_lexer": "ipython3",
   "version": "3.7.3"
  }
 },
 "nbformat": 4,
 "nbformat_minor": 2
}
